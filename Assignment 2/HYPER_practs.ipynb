{
 "cells": [
  {
   "cell_type": "code",
   "execution_count": 1,
   "id": "7d49c066",
   "metadata": {},
   "outputs": [],
   "source": [
    "import pandas as pd\n",
    "import numpy as np\n"
   ]
  },
  {
   "cell_type": "code",
   "execution_count": 2,
   "id": "5efa7d41",
   "metadata": {},
   "outputs": [],
   "source": [
    "df = pd.read_csv(\"bmi.csv\")"
   ]
  },
  {
   "cell_type": "code",
   "execution_count": 3,
   "id": "dbc5b8fc",
   "metadata": {},
   "outputs": [
    {
     "data": {
      "text/html": [
       "<div>\n",
       "<style scoped>\n",
       "    .dataframe tbody tr th:only-of-type {\n",
       "        vertical-align: middle;\n",
       "    }\n",
       "\n",
       "    .dataframe tbody tr th {\n",
       "        vertical-align: top;\n",
       "    }\n",
       "\n",
       "    .dataframe thead th {\n",
       "        text-align: right;\n",
       "    }\n",
       "</style>\n",
       "<table border=\"1\" class=\"dataframe\">\n",
       "  <thead>\n",
       "    <tr style=\"text-align: right;\">\n",
       "      <th></th>\n",
       "      <th>Gender</th>\n",
       "      <th>Height</th>\n",
       "      <th>Weight</th>\n",
       "      <th>Index</th>\n",
       "    </tr>\n",
       "  </thead>\n",
       "  <tbody>\n",
       "    <tr>\n",
       "      <th>0</th>\n",
       "      <td>Male</td>\n",
       "      <td>174</td>\n",
       "      <td>96</td>\n",
       "      <td>4</td>\n",
       "    </tr>\n",
       "    <tr>\n",
       "      <th>1</th>\n",
       "      <td>Male</td>\n",
       "      <td>189</td>\n",
       "      <td>87</td>\n",
       "      <td>2</td>\n",
       "    </tr>\n",
       "    <tr>\n",
       "      <th>2</th>\n",
       "      <td>Female</td>\n",
       "      <td>185</td>\n",
       "      <td>110</td>\n",
       "      <td>4</td>\n",
       "    </tr>\n",
       "    <tr>\n",
       "      <th>3</th>\n",
       "      <td>Female</td>\n",
       "      <td>195</td>\n",
       "      <td>104</td>\n",
       "      <td>3</td>\n",
       "    </tr>\n",
       "    <tr>\n",
       "      <th>4</th>\n",
       "      <td>Male</td>\n",
       "      <td>149</td>\n",
       "      <td>61</td>\n",
       "      <td>3</td>\n",
       "    </tr>\n",
       "  </tbody>\n",
       "</table>\n",
       "</div>"
      ],
      "text/plain": [
       "   Gender  Height  Weight  Index\n",
       "0    Male     174      96      4\n",
       "1    Male     189      87      2\n",
       "2  Female     185     110      4\n",
       "3  Female     195     104      3\n",
       "4    Male     149      61      3"
      ]
     },
     "execution_count": 3,
     "metadata": {},
     "output_type": "execute_result"
    }
   ],
   "source": [
    "df.head()"
   ]
  },
  {
   "cell_type": "code",
   "execution_count": 4,
   "id": "5e542b79",
   "metadata": {},
   "outputs": [],
   "source": [
    "from sklearn.preprocessing import LabelEncoder\n",
    "label_encoder = LabelEncoder()\n",
    "df['Gender'] = label_encoder.fit_transform(df['Gender'])\n",
    "#male -1\n",
    "#female - 0\n",
    "#alphabetically"
   ]
  },
  {
   "cell_type": "code",
   "execution_count": 5,
   "id": "aa35449e",
   "metadata": {},
   "outputs": [
    {
     "data": {
      "text/html": [
       "<div>\n",
       "<style scoped>\n",
       "    .dataframe tbody tr th:only-of-type {\n",
       "        vertical-align: middle;\n",
       "    }\n",
       "\n",
       "    .dataframe tbody tr th {\n",
       "        vertical-align: top;\n",
       "    }\n",
       "\n",
       "    .dataframe thead th {\n",
       "        text-align: right;\n",
       "    }\n",
       "</style>\n",
       "<table border=\"1\" class=\"dataframe\">\n",
       "  <thead>\n",
       "    <tr style=\"text-align: right;\">\n",
       "      <th></th>\n",
       "      <th>Gender</th>\n",
       "      <th>Height</th>\n",
       "      <th>Weight</th>\n",
       "      <th>Index</th>\n",
       "    </tr>\n",
       "  </thead>\n",
       "  <tbody>\n",
       "    <tr>\n",
       "      <th>0</th>\n",
       "      <td>1</td>\n",
       "      <td>174</td>\n",
       "      <td>96</td>\n",
       "      <td>4</td>\n",
       "    </tr>\n",
       "    <tr>\n",
       "      <th>1</th>\n",
       "      <td>1</td>\n",
       "      <td>189</td>\n",
       "      <td>87</td>\n",
       "      <td>2</td>\n",
       "    </tr>\n",
       "    <tr>\n",
       "      <th>2</th>\n",
       "      <td>0</td>\n",
       "      <td>185</td>\n",
       "      <td>110</td>\n",
       "      <td>4</td>\n",
       "    </tr>\n",
       "    <tr>\n",
       "      <th>3</th>\n",
       "      <td>0</td>\n",
       "      <td>195</td>\n",
       "      <td>104</td>\n",
       "      <td>3</td>\n",
       "    </tr>\n",
       "    <tr>\n",
       "      <th>4</th>\n",
       "      <td>1</td>\n",
       "      <td>149</td>\n",
       "      <td>61</td>\n",
       "      <td>3</td>\n",
       "    </tr>\n",
       "  </tbody>\n",
       "</table>\n",
       "</div>"
      ],
      "text/plain": [
       "   Gender  Height  Weight  Index\n",
       "0       1     174      96      4\n",
       "1       1     189      87      2\n",
       "2       0     185     110      4\n",
       "3       0     195     104      3\n",
       "4       1     149      61      3"
      ]
     },
     "execution_count": 5,
     "metadata": {},
     "output_type": "execute_result"
    }
   ],
   "source": [
    "df.head()"
   ]
  },
  {
   "cell_type": "code",
   "execution_count": 6,
   "id": "41c18280-fb40-420f-bd5f-8be8d6ce9216",
   "metadata": {},
   "outputs": [
    {
     "name": "stdout",
     "output_type": "stream",
     "text": [
      "Column 'Gender' has 0 outliers\n",
      "Column 'Height' has 0 outliers\n",
      "Column 'Weight' has 0 outliers\n",
      "Column 'Index' has 0 outliers\n"
     ]
    }
   ],
   "source": [
    "#outlier counts\n",
    "for k, v in df.items():\n",
    "    if df[k].dtype == 'object':\n",
    "        continue \n",
    "    q1 = v.quantile(0.25)\n",
    "    q3 = v.quantile(0.75)\n",
    "    irq = q3 - q1\n",
    "    v_col = v[(v < q1 - 1.5 * irq) | (v > q3 + 1.5 * irq)]\n",
    "    num_outliers = len(v_col)\n",
    "    print(f\"Column '{k}' has {num_outliers} outliers\")\n"
   ]
  },
  {
   "cell_type": "code",
   "execution_count": 7,
   "id": "64a1dd3a",
   "metadata": {},
   "outputs": [
    {
     "data": {
      "text/html": [
       "<div>\n",
       "<style scoped>\n",
       "    .dataframe tbody tr th:only-of-type {\n",
       "        vertical-align: middle;\n",
       "    }\n",
       "\n",
       "    .dataframe tbody tr th {\n",
       "        vertical-align: top;\n",
       "    }\n",
       "\n",
       "    .dataframe thead th {\n",
       "        text-align: right;\n",
       "    }\n",
       "</style>\n",
       "<table border=\"1\" class=\"dataframe\">\n",
       "  <thead>\n",
       "    <tr style=\"text-align: right;\">\n",
       "      <th></th>\n",
       "      <th>Gender</th>\n",
       "      <th>Height</th>\n",
       "      <th>Weight</th>\n",
       "    </tr>\n",
       "  </thead>\n",
       "  <tbody>\n",
       "    <tr>\n",
       "      <th>0</th>\n",
       "      <td>1</td>\n",
       "      <td>174</td>\n",
       "      <td>96</td>\n",
       "    </tr>\n",
       "    <tr>\n",
       "      <th>1</th>\n",
       "      <td>1</td>\n",
       "      <td>189</td>\n",
       "      <td>87</td>\n",
       "    </tr>\n",
       "    <tr>\n",
       "      <th>2</th>\n",
       "      <td>0</td>\n",
       "      <td>185</td>\n",
       "      <td>110</td>\n",
       "    </tr>\n",
       "    <tr>\n",
       "      <th>3</th>\n",
       "      <td>0</td>\n",
       "      <td>195</td>\n",
       "      <td>104</td>\n",
       "    </tr>\n",
       "    <tr>\n",
       "      <th>4</th>\n",
       "      <td>1</td>\n",
       "      <td>149</td>\n",
       "      <td>61</td>\n",
       "    </tr>\n",
       "  </tbody>\n",
       "</table>\n",
       "</div>"
      ],
      "text/plain": [
       "   Gender  Height  Weight\n",
       "0       1     174      96\n",
       "1       1     189      87\n",
       "2       0     185     110\n",
       "3       0     195     104\n",
       "4       1     149      61"
      ]
     },
     "execution_count": 7,
     "metadata": {},
     "output_type": "execute_result"
    }
   ],
   "source": [
    "X =df.drop('Index',axis =1)\n",
    "X.head()"
   ]
  },
  {
   "cell_type": "code",
   "execution_count": 8,
   "id": "06350148",
   "metadata": {},
   "outputs": [
    {
     "data": {
      "text/plain": [
       "0    4\n",
       "1    2\n",
       "2    4\n",
       "3    3\n",
       "4    3\n",
       "Name: Index, dtype: int64"
      ]
     },
     "execution_count": 8,
     "metadata": {},
     "output_type": "execute_result"
    }
   ],
   "source": [
    "y= df['Index']\n",
    "y.head()"
   ]
  },
  {
   "cell_type": "code",
   "execution_count": 14,
   "id": "32ab3363",
   "metadata": {},
   "outputs": [
    {
     "name": "stdout",
     "output_type": "stream",
     "text": [
      "(500, 3)\n",
      "(500,)\n"
     ]
    }
   ],
   "source": [
    "print(X.shape)\n",
    "print(y.shape)"
   ]
  },
  {
   "cell_type": "code",
   "execution_count": 9,
   "id": "f890d3a0",
   "metadata": {},
   "outputs": [
    {
     "name": "stdout",
     "output_type": "stream",
     "text": [
      "(500, 3)\n",
      "(500,)\n"
     ]
    }
   ],
   "source": [
    "X =df.drop('Index',axis =1)\n",
    "y= df['Index']\n",
    "print(X.shape)\n",
    "print(y.shape)"
   ]
  },
  {
   "cell_type": "code",
   "execution_count": 19,
   "id": "9e14ac90",
   "metadata": {},
   "outputs": [],
   "source": [
    "from sklearn.model_selection import GridSearchCV\n",
    "from sklearn.svm import SVC\n",
    "from sklearn.preprocessing import StandardScaler\n",
    "from sklearn.model_selection import train_test_split\n",
    "from sklearn.model_selection import train_test_split\n",
    "from sklearn.preprocessing import StandardScaler\n",
    "from sklearn.linear_model import LogisticRegression\n",
    "from sklearn.svm import SVC\n",
    "from sklearn.neighbors import KNeighborsClassifier\n",
    "from sklearn.metrics import accuracy_score, confusion_matrix, classification_report"
   ]
  },
  {
   "cell_type": "code",
   "execution_count": 11,
   "id": "1b82a8de",
   "metadata": {},
   "outputs": [],
   "source": [
    "X_train, X_test, y_train, y_test = train_test_split(X, y, test_size=0.2, random_state=42)"
   ]
  },
  {
   "cell_type": "code",
   "execution_count": 13,
   "id": "2226d85b",
   "metadata": {},
   "outputs": [
    {
     "name": "stdout",
     "output_type": "stream",
     "text": [
      "X train (400, 3)\n",
      "y train (400,)\n",
      "X test (100, 3)\n",
      "y test (100,)\n"
     ]
    }
   ],
   "source": [
    "print(\"X train\",X_train.shape)\n",
    "print(\"y train\",y_train.shape)\n",
    "print(\"X test\",X_test.shape)\n",
    "print(\"y test\",y_test.shape)"
   ]
  },
  {
   "cell_type": "code",
   "execution_count": 12,
   "id": "8ed9b1ca",
   "metadata": {},
   "outputs": [
    {
     "name": "stdout",
     "output_type": "stream",
     "text": [
      "Fitting 5 folds for each of 72 candidates, totalling 360 fits\n",
      "Best parameters: {'C': 100, 'degree': 2, 'gamma': 'scale', 'kernel': 'linear'}\n",
      "Best cross-validated score: 0.9375\n",
      "Accuracy on test set: 0.94\n"
     ]
    }
   ],
   "source": [
    "scaler = StandardScaler()\n",
    "X_train_scaled = scaler.fit_transform(X_train)\n",
    "X_test_scaled = scaler.transform(X_test)\n",
    "\n",
    "# Define a range of parameters for GridSearch\n",
    "param_grid = {\n",
    "    'C': [0.1, 1, 10, 100],  # Experiment with more values as needed\n",
    "    'kernel': ['linear', 'rbf', 'poly'],\n",
    "    'degree': [2, 3, 4],  # Relevant for poly kernel\n",
    "    'gamma': ['scale', 'auto']  # Kernel coefficient for 'rbf', 'poly'\n",
    "}\n",
    "\n",
    "svm = SVC()\n",
    "grid_search = GridSearchCV(svm, param_grid, cv=5, scoring='accuracy', verbose=1)\n",
    "grid_search.fit(X_train_scaled, y_train)\n",
    "\n",
    "print(\"Best parameters:\", grid_search.best_params_)\n",
    "print(\"Best cross-validated score:\", grid_search.best_score_)\n",
    "\n",
    "# Evaluate the best model found by GridSearchCV on the test set\n",
    "best_model = grid_search.best_estimator_\n",
    "predictions = best_model.predict(X_test_scaled)\n",
    "print(\"Accuracy on test set:\", accuracy_score(y_test, predictions))\n"
   ]
  },
  {
   "cell_type": "code",
   "execution_count": 14,
   "id": "282aaad8",
   "metadata": {},
   "outputs": [
    {
     "name": "stdout",
     "output_type": "stream",
     "text": [
      "Fitting 3 folds for each of 72 candidates, totalling 216 fits\n",
      "Best parameters: {'C': 100, 'degree': 2, 'gamma': 'scale', 'kernel': 'linear'}\n",
      "Best cross-validated score: 0.9449556727639995\n",
      "Accuracy on test set: 0.94\n"
     ]
    }
   ],
   "source": [
    "scaler = StandardScaler()\n",
    "X_train_scaled = scaler.fit_transform(X_train)\n",
    "X_test_scaled = scaler.transform(X_test)\n",
    "\n",
    "# Define a range of parameters for GridSearch\n",
    "param_grid = {\n",
    "    'C': [0.1, 1, 10, 100],  # Experiment with more values as needed\n",
    "    'kernel': ['linear', 'rbf', 'poly'],\n",
    "    'degree': [2, 3, 4],  # Relevant for poly kernel\n",
    "    'gamma': ['scale', 'auto']  # Kernel coefficient for 'rbf', 'poly'\n",
    "}\n",
    "\n",
    "svm = SVC()\n",
    "grid_search = GridSearchCV(svm, param_grid, cv=3, scoring='accuracy', verbose=1)\n",
    "grid_search.fit(X_train_scaled, y_train)\n",
    "\n",
    "print(\"Best parameters:\", grid_search.best_params_)\n",
    "print(\"Best cross-validated score:\", grid_search.best_score_)\n",
    "\n",
    "# Evaluate the best model found by GridSearchCV on the test set\n",
    "best_model = grid_search.best_estimator_\n",
    "predictions = best_model.predict(X_test_scaled)\n",
    "print(\"Accuracy on test set:\", accuracy_score(y_test, predictions))\n"
   ]
  },
  {
   "cell_type": "code",
   "execution_count": 15,
   "id": "67fda6bc",
   "metadata": {},
   "outputs": [
    {
     "name": "stdout",
     "output_type": "stream",
     "text": [
      "Fitting 10 folds for each of 72 candidates, totalling 720 fits\n",
      "Best parameters: {'C': 10, 'degree': 2, 'gamma': 'scale', 'kernel': 'linear'}\n",
      "Best cross-validated score: 0.9425000000000001\n",
      "Accuracy on test set: 0.94\n"
     ]
    }
   ],
   "source": [
    "scaler = StandardScaler()\n",
    "X_train_scaled = scaler.fit_transform(X_train)\n",
    "X_test_scaled = scaler.transform(X_test)\n",
    "\n",
    "# Define a range of parameters for GridSearch\n",
    "param_grid = {\n",
    "    'C': [0.1, 1, 10, 100],  # Experiment with more values as needed\n",
    "    'kernel': ['linear', 'rbf', 'poly'],\n",
    "    'degree': [2, 3, 4],  # Relevant for poly kernel\n",
    "    'gamma': ['scale', 'auto']  # Kernel coefficient for 'rbf', 'poly'\n",
    "}\n",
    "\n",
    "svm = SVC()\n",
    "grid_search = GridSearchCV(svm, param_grid, cv=10, scoring='accuracy', verbose=1)\n",
    "grid_search.fit(X_train_scaled, y_train)\n",
    "\n",
    "print(\"Best parameters:\", grid_search.best_params_)\n",
    "print(\"Best cross-validated score:\", grid_search.best_score_)\n",
    "\n",
    "# Evaluate the best model found by GridSearchCV on the test set\n",
    "best_model = grid_search.best_estimator_\n",
    "predictions = best_model.predict(X_test_scaled)\n",
    "print(\"Accuracy on test set:\", accuracy_score(y_test, predictions))\n"
   ]
  },
  {
   "cell_type": "code",
   "execution_count": 16,
   "id": "339757d5",
   "metadata": {},
   "outputs": [
    {
     "name": "stdout",
     "output_type": "stream",
     "text": [
      "Fitting 3 folds for each of 72 candidates, totalling 216 fits\n",
      "Fitting 5 folds for each of 72 candidates, totalling 360 fits\n",
      "Fitting 10 folds for each of 72 candidates, totalling 720 fits\n",
      "Fitting 15 folds for each of 72 candidates, totalling 1080 fits\n"
     ]
    },
    {
     "name": "stderr",
     "output_type": "stream",
     "text": [
      "C:\\Users\\Anil Sah\\miniconda3\\envs\\myenv\\lib\\site-packages\\sklearn\\model_selection\\_split.py:668: UserWarning: The least populated class in y has only 12 members, which is less than n_splits=15.\n",
      "  % (min_groups, self.n_splits)), UserWarning)\n"
     ]
    },
    {
     "name": "stdout",
     "output_type": "stream",
     "text": [
      "CV: 3, Best parameters: {'C': 100, 'degree': 2, 'gamma': 'scale', 'kernel': 'linear'}, Best cross-validated score: 0.9450\n",
      "CV: 5, Best parameters: {'C': 100, 'degree': 2, 'gamma': 'scale', 'kernel': 'linear'}, Best cross-validated score: 0.9375\n",
      "CV: 10, Best parameters: {'C': 10, 'degree': 2, 'gamma': 'scale', 'kernel': 'linear'}, Best cross-validated score: 0.9425\n",
      "CV: 15, Best parameters: {'C': 100, 'degree': 2, 'gamma': 'scale', 'kernel': 'linear'}, Best cross-validated score: 0.9349\n",
      "Accuracy on test set with optimal CV: 0.94\n"
     ]
    }
   ],
   "source": [
    "import numpy as np\n",
    "from sklearn.model_selection import GridSearchCV\n",
    "from sklearn.svm import SVC\n",
    "from sklearn.preprocessing import StandardScaler\n",
    "from sklearn.metrics import accuracy_score\n",
    "\n",
    "# Scale the data\n",
    "scaler = StandardScaler()\n",
    "X_train_scaled = scaler.fit_transform(X_train)\n",
    "X_test_scaled = scaler.transform(X_test)\n",
    "\n",
    "# Define a range of parameters for GridSearch\n",
    "param_grid = {\n",
    "    'C': [0.1, 1, 10, 100],\n",
    "    'kernel': ['linear', 'rbf', 'poly'],\n",
    "    'degree': [2, 3, 4],  # Relevant for poly kernel\n",
    "    'gamma': ['scale', 'auto']\n",
    "}\n",
    "\n",
    "# List of CV values to test\n",
    "cv_values = [3, 5, 10, 15]\n",
    "results = {}\n",
    "\n",
    "# Loop through different CV values\n",
    "for cv in cv_values:\n",
    "    # Initialize the SVM model\n",
    "    svm = SVC()\n",
    "    \n",
    "    # Create GridSearchCV with the current CV value\n",
    "    grid_search = GridSearchCV(svm, param_grid, cv=cv, scoring='accuracy', verbose=1)\n",
    "    \n",
    "    # Fit the model\n",
    "    grid_search.fit(X_train_scaled, y_train)\n",
    "\n",
    "    # Store the best parameters and score for each CV value\n",
    "    results[cv] = {\n",
    "        'best_params': grid_search.best_params_,\n",
    "        'best_score': grid_search.best_score_\n",
    "    }\n",
    "\n",
    "# Print the results for all CV values\n",
    "for cv, result in results.items():\n",
    "    print(f\"CV: {cv}, Best parameters: {result['best_params']}, Best cross-validated score: {result['best_score']:.4f}\")\n",
    "\n",
    "# Evaluate the best model found with the optimal CV value on the test set\n",
    "# Here you might want to select the optimal CV value based on the highest score\n",
    "optimal_cv = max(results, key=lambda x: results[x]['best_score'])\n",
    "best_params = results[optimal_cv]['best_params']\n",
    "\n",
    "# Train the final model with the best parameters found\n",
    "final_model = SVC(**best_params)\n",
    "final_model.fit(X_train_scaled, y_train)\n",
    "\n",
    "# Predict and evaluate on the test set\n",
    "predictions = final_model.predict(X_test_scaled)\n",
    "print(\"Accuracy on test set with optimal CV:\", accuracy_score(y_test, predictions))\n"
   ]
  },
  {
   "cell_type": "code",
   "execution_count": 17,
   "id": "b12dbb24",
   "metadata": {},
   "outputs": [
    {
     "name": "stdout",
     "output_type": "stream",
     "text": [
      "Fitting 3 folds for each of 162 candidates, totalling 486 fits\n",
      "Fitting 5 folds for each of 162 candidates, totalling 810 fits\n",
      "Fitting 10 folds for each of 162 candidates, totalling 1620 fits\n",
      "Fitting 15 folds for each of 162 candidates, totalling 2430 fits\n"
     ]
    },
    {
     "name": "stderr",
     "output_type": "stream",
     "text": [
      "C:\\Users\\Anil Sah\\miniconda3\\envs\\myenv\\lib\\site-packages\\sklearn\\model_selection\\_split.py:668: UserWarning: The least populated class in y has only 12 members, which is less than n_splits=15.\n",
      "  % (min_groups, self.n_splits)), UserWarning)\n"
     ]
    },
    {
     "name": "stdout",
     "output_type": "stream",
     "text": [
      "CV: 3, Best parameters: {'C': 1000, 'degree': 2, 'gamma': 'scale', 'kernel': 'linear'}, Best cross-validated score: 0.9500\n",
      "CV: 5, Best parameters: {'C': 1000, 'degree': 2, 'gamma': 'scale', 'kernel': 'linear'}, Best cross-validated score: 0.9500\n",
      "CV: 10, Best parameters: {'C': 1000, 'degree': 2, 'gamma': 'scale', 'kernel': 'linear'}, Best cross-validated score: 0.9450\n",
      "CV: 15, Best parameters: {'C': 1000, 'degree': 2, 'gamma': 'scale', 'kernel': 'linear'}, Best cross-validated score: 0.9400\n",
      "Accuracy on test set with optimal CV: 0.95\n"
     ]
    }
   ],
   "source": [
    "import numpy as np\n",
    "from sklearn.model_selection import GridSearchCV\n",
    "from sklearn.svm import SVC\n",
    "from sklearn.preprocessing import StandardScaler\n",
    "from sklearn.metrics import accuracy_score\n",
    "\n",
    "# Scale the data\n",
    "scaler = StandardScaler()\n",
    "X_train_scaled = scaler.fit_transform(X_train)\n",
    "X_test_scaled = scaler.transform(X_test)\n",
    "\n",
    "# Define a range of parameters for GridSearch\n",
    "param_grid = {\n",
    "    'C': [0.0001,0.001,0.01,0.1, 1, 10, 100,1000,10000],\n",
    "    'kernel': ['linear', 'rbf', 'poly'],\n",
    "    'degree': [2, 3, 4],  # Relevant for poly kernel\n",
    "    'gamma': ['scale', 'auto']\n",
    "}\n",
    "\n",
    "# List of CV values to test\n",
    "cv_values = [3, 5, 10, 15]\n",
    "results = {}\n",
    "\n",
    "# Loop through different CV values\n",
    "for cv in cv_values:\n",
    "    # Initialize the SVM model\n",
    "    svm = SVC()\n",
    "    \n",
    "    # Create GridSearchCV with the current CV value\n",
    "    grid_search = GridSearchCV(svm, param_grid, cv=cv, scoring='accuracy', verbose=1)\n",
    "    \n",
    "    # Fit the model\n",
    "    grid_search.fit(X_train_scaled, y_train)\n",
    "\n",
    "    # Store the best parameters and score for each CV value\n",
    "    results[cv] = {\n",
    "        'best_params': grid_search.best_params_,\n",
    "        'best_score': grid_search.best_score_\n",
    "    }\n",
    "\n",
    "# Print the results for all CV values\n",
    "for cv, result in results.items():\n",
    "    print(f\"CV: {cv}, Best parameters: {result['best_params']}, Best cross-validated score: {result['best_score']:.4f}\")\n",
    "\n",
    "# Evaluate the best model found with the optimal CV value on the test set\n",
    "# Here you might want to select the optimal CV value based on the highest score\n",
    "optimal_cv = max(results, key=lambda x: results[x]['best_score'])\n",
    "best_params = results[optimal_cv]['best_params']\n",
    "\n",
    "# Train the final model with the best parameters found\n",
    "final_model = SVC(**best_params)\n",
    "final_model.fit(X_train_scaled, y_train)\n",
    "\n",
    "# Predict and evaluate on the test set\n",
    "predictions = final_model.predict(X_test_scaled)\n",
    "print(\"Accuracy on test set with optimal CV:\", accuracy_score(y_test, predictions))\n"
   ]
  },
  {
   "cell_type": "code",
   "execution_count": 18,
   "id": "8d99c61a",
   "metadata": {},
   "outputs": [
    {
     "name": "stdout",
     "output_type": "stream",
     "text": [
      "Fitting 5 folds for each of 20 candidates, totalling 100 fits\n",
      "Best parameters: {'metric': 'euclidean', 'n_neighbors': 1, 'weights': 'uniform'}\n",
      "Best cross-validated score: 0.8724999999999999\n"
     ]
    }
   ],
   "source": [
    "import numpy as np\n",
    "from sklearn.model_selection import GridSearchCV\n",
    "from sklearn.svm import SVC\n",
    "from sklearn.preprocessing import StandardScaler\n",
    "from sklearn.metrics import accuracy_score\n",
    "\n",
    "# Scale the data\n",
    "scaler = StandardScaler()\n",
    "X_train_scaled = scaler.fit_transform(X_train)\n",
    "X_test_scaled = scaler.transform(X_test)\n",
    "\n",
    "param_grid = {\n",
    "    'n_neighbors': [1, 3, 5, 7, 9],\n",
    "    'weights': ['uniform', 'distance'],\n",
    "    'metric': ['euclidean', 'manhattan']\n",
    "}\n",
    "\n",
    "# Create KNN model\n",
    "knn = KNeighborsClassifier()\n",
    "\n",
    "# Create the GridSearchCV object\n",
    "grid_search = GridSearchCV(knn, param_grid, cv=5, scoring='accuracy', verbose=1)\n",
    "\n",
    "# Fit the model\n",
    "grid_search.fit(X_train_scaled, y_train)\n",
    "\n",
    "# Output the best parameters and score\n",
    "print(\"Best parameters:\", grid_search.best_params_)\n",
    "print(\"Best cross-validated score:\", grid_search.best_score_)\n"
   ]
  },
  {
   "cell_type": "code",
   "execution_count": 19,
   "id": "61c05bf3",
   "metadata": {},
   "outputs": [
    {
     "name": "stdout",
     "output_type": "stream",
     "text": [
      "Using CV = 3\n",
      "Fitting 3 folds for each of 20 candidates, totalling 60 fits\n",
      "Best parameters: {'metric': 'euclidean', 'n_neighbors': 5, 'weights': 'distance'}\n",
      "Best cross-validated score: 0.8324916769535781\n",
      "Test set accuracy: 0.9\n",
      "--------------------------------------------------\n",
      "Using CV = 5\n",
      "Fitting 5 folds for each of 20 candidates, totalling 100 fits\n",
      "Best parameters: {'metric': 'euclidean', 'n_neighbors': 1, 'weights': 'uniform'}\n",
      "Best cross-validated score: 0.8724999999999999\n",
      "Test set accuracy: 0.88\n",
      "--------------------------------------------------\n",
      "Using CV = 10\n",
      "Fitting 10 folds for each of 20 candidates, totalling 200 fits\n",
      "Best parameters: {'metric': 'manhattan', 'n_neighbors': 5, 'weights': 'distance'}\n",
      "Best cross-validated score: 0.8825\n",
      "Test set accuracy: 0.9\n",
      "--------------------------------------------------\n"
     ]
    }
   ],
   "source": [
    "\n",
    "param_grid = {\n",
    "    'n_neighbors': [1, 3, 5, 7, 9],\n",
    "    'weights': ['uniform', 'distance'],\n",
    "    'metric': ['euclidean', 'manhattan']\n",
    "}\n",
    "\n",
    "# Create KNN model\n",
    "knn = KNeighborsClassifier()\n",
    "\n",
    "# List of CV values to test\n",
    "cv_values = [3, 5, 10]\n",
    "\n",
    "# Loop through each CV value\n",
    "for cv in cv_values:\n",
    "    print(f\"Using CV = {cv}\")\n",
    "    \n",
    "    # Create the GridSearchCV object with the current cv value\n",
    "    grid_search = GridSearchCV(knn, param_grid, cv=cv, scoring='accuracy', verbose=1)\n",
    "\n",
    "    # Fit the model\n",
    "    grid_search.fit(X_train_scaled, y_train)\n",
    "\n",
    "    # Output the best parameters and score\n",
    "    print(\"Best parameters:\", grid_search.best_params_)\n",
    "    print(\"Best cross-validated score:\", grid_search.best_score_)\n",
    "\n",
    "    # Evaluate the best model on the test set\n",
    "    best_model = grid_search.best_estimator_\n",
    "    test_accuracy = best_model.score(X_test_scaled, y_test)\n",
    "    print(\"Test set accuracy:\", test_accuracy)\n",
    "    print(\"--------------------------------------------------\")"
   ]
  },
  {
   "cell_type": "code",
   "execution_count": 1,
   "id": "6791cdff",
   "metadata": {},
   "outputs": [
    {
     "ename": "NameError",
     "evalue": "name 'df' is not defined",
     "output_type": "error",
     "traceback": [
      "\u001b[1;31m---------------------------------------------------------------------------\u001b[0m",
      "\u001b[1;31mNameError\u001b[0m                                 Traceback (most recent call last)",
      "Cell \u001b[1;32mIn[1], line 1\u001b[0m\n\u001b[1;32m----> 1\u001b[0m \u001b[43mdf\u001b[49m\n",
      "\u001b[1;31mNameError\u001b[0m: name 'df' is not defined"
     ]
    }
   ],
   "source": [
    "df"
   ]
  },
  {
   "cell_type": "code",
   "execution_count": 11,
   "id": "49449ca8-439b-4b03-ae7d-1b27889014aa",
   "metadata": {},
   "outputs": [],
   "source": [
    "# --------sampling"
   ]
  },
  {
   "cell_type": "code",
   "execution_count": 27,
   "id": "43919eff-5d27-4b97-b58b-80131e01f36d",
   "metadata": {},
   "outputs": [
    {
     "data": {
      "text/plain": [
       "Index\n",
       "5    198\n",
       "4    130\n",
       "2     69\n",
       "3     68\n",
       "1     22\n",
       "0     13\n",
       "Name: count, dtype: int64"
      ]
     },
     "execution_count": 27,
     "metadata": {},
     "output_type": "execute_result"
    }
   ],
   "source": [
    "df['Index'].value_counts()"
   ]
  },
  {
   "cell_type": "code",
   "execution_count": 28,
   "id": "321ff779-f964-4d19-96c4-6b0b69ba1741",
   "metadata": {},
   "outputs": [],
   "source": [
    "##NOSMAPLING"
   ]
  },
  {
   "cell_type": "code",
   "execution_count": 29,
   "id": "879ece5f-db73-4c92-b78b-5437664935de",
   "metadata": {},
   "outputs": [
    {
     "name": "stdout",
     "output_type": "stream",
     "text": [
      "Baseline Model (No Resampling)\n",
      "Confusion Matrix:\n",
      " [[ 1  0  0  0  0  0]\n",
      " [ 0  2  2  0  0  0]\n",
      " [ 0  2 16  0  0  0]\n",
      " [ 0  0  2  5  1  0]\n",
      " [ 0  0  0  6 20  4]\n",
      " [ 0  0  0  0  5 34]]\n",
      "              precision    recall  f1-score   support\n",
      "\n",
      "           0       1.00      1.00      1.00         1\n",
      "           1       0.50      0.50      0.50         4\n",
      "           2       0.80      0.89      0.84        18\n",
      "           3       0.45      0.62      0.53         8\n",
      "           4       0.77      0.67      0.71        30\n",
      "           5       0.89      0.87      0.88        39\n",
      "\n",
      "    accuracy                           0.78       100\n",
      "   macro avg       0.74      0.76      0.74       100\n",
      "weighted avg       0.79      0.78      0.78       100\n",
      "\n",
      "0.7475\n",
      "0.78\n",
      "Model does not appear to be overfitting.\n"
     ]
    },
    {
     "name": "stderr",
     "output_type": "stream",
     "text": [
      "C:\\Users\\DELL\\AppData\\Local\\Programs\\Python\\Python312\\Lib\\site-packages\\sklearn\\linear_model\\_logistic.py:469: ConvergenceWarning: lbfgs failed to converge (status=1):\n",
      "STOP: TOTAL NO. of ITERATIONS REACHED LIMIT.\n",
      "\n",
      "Increase the number of iterations (max_iter) or scale the data as shown in:\n",
      "    https://scikit-learn.org/stable/modules/preprocessing.html\n",
      "Please also refer to the documentation for alternative solver options:\n",
      "    https://scikit-learn.org/stable/modules/linear_model.html#logistic-regression\n",
      "  n_iter_i = _check_optimize_result(\n"
     ]
    }
   ],
   "source": [
    "X_train, X_test, y_train, y_test = train_test_split(X, y, test_size=0.2, random_state=42)\n",
    "\n",
    "# Train Logistic Regression without resampling\n",
    "model_baseline = LogisticRegression(random_state=42)\n",
    "model_baseline.fit(X_train, y_train)\n",
    "\n",
    "# Predictions and evaluation\n",
    "y_pred_baseline = model_baseline.predict(X_test)\n",
    "print(\"Baseline Model (No Resampling)\")\n",
    "print(\"Confusion Matrix:\\n\", confusion_matrix(y_test, y_pred_baseline))\n",
    "print(classification_report(y_test, y_pred_baseline, zero_division=0))\n",
    "y_pred_train_baseline = model_baseline.predict(X_train)\n",
    "\n",
    "# Calculate accuracies\n",
    "train_accuracy = accuracy_score(y_train, y_pred_train_baseline)\n",
    "test_accuracy = accuracy_score(y_test, y_pred_baseline)\n",
    "print(train_accuracy)\n",
    "print(test_accuracy)\n",
    "if train_accuracy - test_accuracy > 0.1:  # You can adjust the threshold as needed\n",
    "    print(\"Warning: Possible overfitting detected!\")\n",
    "else:\n",
    "    print(\"Model does not appear to be overfitting.\")"
   ]
  },
  {
   "cell_type": "code",
   "execution_count": 30,
   "id": "54bbded2-63b4-4548-8dc8-40077a89d348",
   "metadata": {},
   "outputs": [
    {
     "name": "stdout",
     "output_type": "stream",
     "text": [
      "Resampled class distribution:\n",
      " Index\n",
      "4    159\n",
      "5    159\n",
      "2    159\n",
      "3    159\n",
      "1    159\n",
      "0    159\n",
      "Name: count, dtype: int64\n",
      "Random Oversampling\n",
      "Confusion Matrix:\n",
      " [[ 1  0  0  0  0  0]\n",
      " [ 0  4  0  0  0  0]\n",
      " [ 0  3 15  0  0  0]\n",
      " [ 0  0  2  6  0  0]\n",
      " [ 0  0  0  9 18  3]\n",
      " [ 0  0  0  0  6 33]]\n",
      "              precision    recall  f1-score   support\n",
      "\n",
      "           0       1.00      1.00      1.00         1\n",
      "           1       0.57      1.00      0.73         4\n",
      "           2       0.88      0.83      0.86        18\n",
      "           3       0.40      0.75      0.52         8\n",
      "           4       0.75      0.60      0.67        30\n",
      "           5       0.92      0.85      0.88        39\n",
      "\n",
      "    accuracy                           0.77       100\n",
      "   macro avg       0.75      0.84      0.78       100\n",
      "weighted avg       0.81      0.77      0.78       100\n",
      "\n",
      "0.7475\n",
      "0.77\n",
      "Model does not appear to be overfitting.\n"
     ]
    },
    {
     "name": "stderr",
     "output_type": "stream",
     "text": [
      "C:\\Users\\DELL\\AppData\\Local\\Programs\\Python\\Python312\\Lib\\site-packages\\sklearn\\linear_model\\_logistic.py:469: ConvergenceWarning: lbfgs failed to converge (status=1):\n",
      "STOP: TOTAL NO. of ITERATIONS REACHED LIMIT.\n",
      "\n",
      "Increase the number of iterations (max_iter) or scale the data as shown in:\n",
      "    https://scikit-learn.org/stable/modules/preprocessing.html\n",
      "Please also refer to the documentation for alternative solver options:\n",
      "    https://scikit-learn.org/stable/modules/linear_model.html#logistic-regression\n",
      "  n_iter_i = _check_optimize_result(\n"
     ]
    }
   ],
   "source": [
    "from imblearn.over_sampling import RandomOverSampler, SMOTE\n",
    "from imblearn.under_sampling import RandomUnderSampler\n",
    "\n",
    "# Apply random oversampling\n",
    "oversampler = RandomOverSampler(random_state=42)\n",
    "X_resampled, y_resampled = oversampler.fit_resample(X_train, y_train)\n",
    "\n",
    "print(\"Resampled class distribution:\\n\", pd.Series(y_resampled).value_counts())\n",
    "\n",
    "# Train Logistic Regression on resampled data\n",
    "model_over = LogisticRegression(random_state=42)\n",
    "model_over.fit(X_resampled, y_resampled)\n",
    "\n",
    "# Predictions and evaluation\n",
    "y_pred_over = model_over.predict(X_test)\n",
    "print(\"Random Oversampling\")\n",
    "print(\"Confusion Matrix:\\n\", confusion_matrix(y_test, y_pred_over))\n",
    "print(classification_report(y_test, y_pred_over, zero_division=0))\n",
    "\n",
    "y_pred_train_baseline = model_baseline.predict(X_train)\n",
    "# Calculate accuracies\n",
    "train_accuracy = accuracy_score(y_train, y_pred_train_baseline)\n",
    "test_accuracy = accuracy_score(y_test, y_pred_over)\n",
    "print(train_accuracy)\n",
    "print(test_accuracy)\n",
    "if train_accuracy > test_accuracy :  # You can adjust the threshold as needed\n",
    "    print(\"Warning: Possible overfitting detected!\")\n",
    "else:\n",
    "    print(\"Model does not appear to be overfitting.\")\n"
   ]
  },
  {
   "cell_type": "code",
   "execution_count": 31,
   "id": "ca7d0c6e-6044-4fc6-9260-bdbe5fc50fc5",
   "metadata": {},
   "outputs": [
    {
     "name": "stdout",
     "output_type": "stream",
     "text": [
      "Resampled class distribution:\n",
      " Index\n",
      "0    12\n",
      "1    12\n",
      "2    12\n",
      "3    12\n",
      "4    12\n",
      "5    12\n",
      "Name: count, dtype: int64\n",
      "Random Undersampling\n",
      "Confusion Matrix:\n",
      " [[ 1  0  0  0  0  0]\n",
      " [ 0  4  0  0  0  0]\n",
      " [ 0  3 15  0  0  0]\n",
      " [ 0  0  3  5  0  0]\n",
      " [ 0  0  2  7 15  6]\n",
      " [ 0  0  0  0  5 34]]\n",
      "              precision    recall  f1-score   support\n",
      "\n",
      "           0       1.00      1.00      1.00         1\n",
      "           1       0.57      1.00      0.73         4\n",
      "           2       0.75      0.83      0.79        18\n",
      "           3       0.42      0.62      0.50         8\n",
      "           4       0.75      0.50      0.60        30\n",
      "           5       0.85      0.87      0.86        39\n",
      "\n",
      "    accuracy                           0.74       100\n",
      "   macro avg       0.72      0.81      0.75       100\n",
      "weighted avg       0.76      0.74      0.74       100\n",
      "\n",
      "0.7475\n",
      "0.74\n",
      "Model does not appear to be overfitting.\n"
     ]
    },
    {
     "name": "stderr",
     "output_type": "stream",
     "text": [
      "C:\\Users\\DELL\\AppData\\Local\\Programs\\Python\\Python312\\Lib\\site-packages\\sklearn\\linear_model\\_logistic.py:469: ConvergenceWarning: lbfgs failed to converge (status=1):\n",
      "STOP: TOTAL NO. of ITERATIONS REACHED LIMIT.\n",
      "\n",
      "Increase the number of iterations (max_iter) or scale the data as shown in:\n",
      "    https://scikit-learn.org/stable/modules/preprocessing.html\n",
      "Please also refer to the documentation for alternative solver options:\n",
      "    https://scikit-learn.org/stable/modules/linear_model.html#logistic-regression\n",
      "  n_iter_i = _check_optimize_result(\n"
     ]
    }
   ],
   "source": [
    "from imblearn.under_sampling import RandomUnderSampler\n",
    "\n",
    "# Apply random undersampling\n",
    "undersampler = RandomUnderSampler(random_state=42)\n",
    "X_resampled, y_resampled = undersampler.fit_resample(X_train, y_train)\n",
    "\n",
    "print(\"Resampled class distribution:\\n\", pd.Series(y_resampled).value_counts())\n",
    "\n",
    "# Train Logistic Regression on resampled data\n",
    "model_under = LogisticRegression(random_state=42)\n",
    "model_under.fit(X_resampled, y_resampled)\n",
    "\n",
    "# Predictions and evaluation\n",
    "y_pred_under = model_under.predict(X_test)\n",
    "print(\"Random Undersampling\")\n",
    "print(\"Confusion Matrix:\\n\", confusion_matrix(y_test, y_pred_under))\n",
    "print(classification_report(y_test, y_pred_under, zero_division=0))\n",
    "\n",
    "\n",
    "y_pred_train_baseline = model_baseline.predict(X_train)\n",
    "# Calculate accuracies\n",
    "train_accuracy = accuracy_score(y_train, y_pred_train_baseline)\n",
    "test_accuracy = accuracy_score(y_test, y_pred_under)\n",
    "print(train_accuracy)\n",
    "print(test_accuracy)\n",
    "if train_accuracy - test_accuracy > 0.1:  # You can adjust the threshold as needed\n",
    "    print(\"Warning: Possible overfitting detected!\")\n",
    "else:\n",
    "    print(\"Model does not appear to be overfitting.\")\n"
   ]
  },
  {
   "cell_type": "code",
   "execution_count": 32,
   "id": "d187df30-2877-43f2-bf80-47816a2e5983",
   "metadata": {
    "scrolled": true
   },
   "outputs": [
    {
     "name": "stdout",
     "output_type": "stream",
     "text": [
      "Resampled class distribution:\n",
      " Index\n",
      "4    159\n",
      "5    159\n",
      "2    159\n",
      "3    159\n",
      "1    159\n",
      "0    159\n",
      "Name: count, dtype: int64\n",
      "SMOTE\n",
      "Confusion Matrix:\n",
      " [[ 1  0  0  0  0  0]\n",
      " [ 0  3  1  0  0  0]\n",
      " [ 0  2 16  0  0  0]\n",
      " [ 0  0  2  6  0  0]\n",
      " [ 0  0  0  8 19  3]\n",
      " [ 0  0  0  0  7 32]]\n",
      "              precision    recall  f1-score   support\n",
      "\n",
      "           0       1.00      1.00      1.00         1\n",
      "           1       0.60      0.75      0.67         4\n",
      "           2       0.84      0.89      0.86        18\n",
      "           3       0.43      0.75      0.55         8\n",
      "           4       0.73      0.63      0.68        30\n",
      "           5       0.91      0.82      0.86        39\n",
      "\n",
      "    accuracy                           0.77       100\n",
      "   macro avg       0.75      0.81      0.77       100\n",
      "weighted avg       0.80      0.77      0.78       100\n",
      "\n"
     ]
    },
    {
     "name": "stderr",
     "output_type": "stream",
     "text": [
      "C:\\Users\\DELL\\AppData\\Local\\Programs\\Python\\Python312\\Lib\\site-packages\\sklearn\\linear_model\\_logistic.py:469: ConvergenceWarning: lbfgs failed to converge (status=1):\n",
      "STOP: TOTAL NO. of ITERATIONS REACHED LIMIT.\n",
      "\n",
      "Increase the number of iterations (max_iter) or scale the data as shown in:\n",
      "    https://scikit-learn.org/stable/modules/preprocessing.html\n",
      "Please also refer to the documentation for alternative solver options:\n",
      "    https://scikit-learn.org/stable/modules/linear_model.html#logistic-regression\n",
      "  n_iter_i = _check_optimize_result(\n"
     ]
    }
   ],
   "source": [
    "from imblearn.over_sampling import SMOTE\n",
    "\n",
    "# Apply SMOTE\n",
    "smote = SMOTE(random_state=42)\n",
    "X_resampled, y_resampled = smote.fit_resample(X_train, y_train)\n",
    "\n",
    "print(\"Resampled class distribution:\\n\", pd.Series(y_resampled).value_counts())\n",
    "\n",
    "# Train Logistic Regression on SMOTE data\n",
    "model_smote = LogisticRegression(random_state=42)\n",
    "model_smote.fit(X_resampled, y_resampled)\n",
    "\n",
    "# Predictions and evaluation\n",
    "y_pred_smote = model_smote.predict(X_test)\n",
    "print(\"SMOTE\")\n",
    "print(\"Confusion Matrix:\\n\", confusion_matrix(y_test, y_pred_smote))\n",
    "print(classification_report(y_test, y_pred_smote, zero_division=0))\n"
   ]
  },
  {
   "cell_type": "code",
   "execution_count": 26,
   "id": "26f05c3a-84bc-4087-967b-61eb336531b1",
   "metadata": {},
   "outputs": [
    {
     "data": {
      "text/html": [
       "<div>\n",
       "<style scoped>\n",
       "    .dataframe tbody tr th:only-of-type {\n",
       "        vertical-align: middle;\n",
       "    }\n",
       "\n",
       "    .dataframe tbody tr th {\n",
       "        vertical-align: top;\n",
       "    }\n",
       "\n",
       "    .dataframe thead th {\n",
       "        text-align: right;\n",
       "    }\n",
       "</style>\n",
       "<table border=\"1\" class=\"dataframe\">\n",
       "  <thead>\n",
       "    <tr style=\"text-align: right;\">\n",
       "      <th></th>\n",
       "      <th>Model</th>\n",
       "      <th>Accuracy</th>\n",
       "      <th>F1-Score (Weighted)</th>\n",
       "      <th>Precision (Weighted)</th>\n",
       "      <th>Recall (Weighted)</th>\n",
       "    </tr>\n",
       "  </thead>\n",
       "  <tbody>\n",
       "    <tr>\n",
       "      <th>0</th>\n",
       "      <td>Baseline (No Resampling)</td>\n",
       "      <td>0.78</td>\n",
       "      <td>0.782386</td>\n",
       "      <td>0.790080</td>\n",
       "      <td>0.78</td>\n",
       "    </tr>\n",
       "    <tr>\n",
       "      <th>1</th>\n",
       "      <td>Random Oversampling</td>\n",
       "      <td>0.77</td>\n",
       "      <td>0.778316</td>\n",
       "      <td>0.806181</td>\n",
       "      <td>0.77</td>\n",
       "    </tr>\n",
       "    <tr>\n",
       "      <th>2</th>\n",
       "      <td>Random Undersampling</td>\n",
       "      <td>0.74</td>\n",
       "      <td>0.736892</td>\n",
       "      <td>0.757690</td>\n",
       "      <td>0.74</td>\n",
       "    </tr>\n",
       "    <tr>\n",
       "      <th>3</th>\n",
       "      <td>SMOTE</td>\n",
       "      <td>0.77</td>\n",
       "      <td>0.776847</td>\n",
       "      <td>0.795667</td>\n",
       "      <td>0.77</td>\n",
       "    </tr>\n",
       "  </tbody>\n",
       "</table>\n",
       "</div>"
      ],
      "text/plain": [
       "                      Model  Accuracy  F1-Score (Weighted)  \\\n",
       "0  Baseline (No Resampling)      0.78             0.782386   \n",
       "1       Random Oversampling      0.77             0.778316   \n",
       "2      Random Undersampling      0.74             0.736892   \n",
       "3                     SMOTE      0.77             0.776847   \n",
       "\n",
       "   Precision (Weighted)  Recall (Weighted)  \n",
       "0              0.790080               0.78  \n",
       "1              0.806181               0.77  \n",
       "2              0.757690               0.74  \n",
       "3              0.795667               0.77  "
      ]
     },
     "execution_count": 26,
     "metadata": {},
     "output_type": "execute_result"
    }
   ],
   "source": [
    "import pandas as pd\n",
    "\n",
    "# Function to collect results\n",
    "def get_metrics(y_true, y_pred, model_name):\n",
    "    report = classification_report(y_true, y_pred, output_dict=True, zero_division=0)\n",
    "    return {\n",
    "        'Model': model_name,\n",
    "        'Accuracy': report['accuracy'],\n",
    "        'F1-Score (Weighted)': report['weighted avg']['f1-score'],\n",
    "        'Precision (Weighted)': report['weighted avg']['precision'],\n",
    "        'Recall (Weighted)': report['weighted avg']['recall']\n",
    "    }\n",
    "\n",
    "# Collect metrics for all models\n",
    "results = [\n",
    "    get_metrics(y_test, y_pred_baseline, 'Baseline (No Resampling)'),\n",
    "    get_metrics(y_test, y_pred_over, 'Random Oversampling'),\n",
    "    get_metrics(y_test, y_pred_under, 'Random Undersampling'),\n",
    "    get_metrics(y_test, y_pred_smote, 'SMOTE')\n",
    "]\n",
    "\n",
    "# Create DataFrame for comparison\n",
    "df_results = pd.DataFrame(results)\n",
    "df_results\n"
   ]
  },
  {
   "cell_type": "code",
   "execution_count": 25,
   "id": "ea07d773-49c3-4eb2-b267-098f9b93fe90",
   "metadata": {},
   "outputs": [
    {
     "ename": "NameError",
     "evalue": "name 'train_predictions' is not defined",
     "output_type": "error",
     "traceback": [
      "\u001b[1;31m---------------------------------------------------------------------------\u001b[0m",
      "\u001b[1;31mNameError\u001b[0m                                 Traceback (most recent call last)",
      "Cell \u001b[1;32mIn[25], line 1\u001b[0m\n\u001b[1;32m----> 1\u001b[0m train_accuracy \u001b[38;5;241m=\u001b[39m accuracy_score(y_train, \u001b[43mtrain_predictions\u001b[49m)\n\u001b[0;32m      2\u001b[0m test_accuracy \u001b[38;5;241m=\u001b[39m accuracy_score(y_test, test_predictions)\n\u001b[0;32m      4\u001b[0m \u001b[38;5;66;03m# Print the results\u001b[39;00m\n",
      "\u001b[1;31mNameError\u001b[0m: name 'train_predictions' is not defined"
     ]
    }
   ],
   "source": [
    "train_accuracy = accuracy_score(y_train, train_predictions)\n",
    "test_accuracy = accuracy_score(y_test, test_predictions)\n",
    "\n",
    "# Print the results\n",
    "print(f\"Training Accuracy: {train_accuracy:.4f}\")\n",
    "print(f\"Test Accuracy: {test_accuracy:.4f}\")\n",
    "\n",
    "# Overfitting detection: Compare train and test accuracies\n",
    "if train_accuracy > test_accuracy + 0.10:  # 10% threshold for large performance gap\n",
    "    print(\"Potential Overfitting Detected!\")\n",
    "else:\n",
    "    print(\"No significant overfitting.\")"
   ]
  },
  {
   "cell_type": "code",
   "execution_count": 35,
   "id": "40578eae-4ffd-4634-b0cb-35df870eae52",
   "metadata": {},
   "outputs": [
    {
     "data": {
      "image/png": "[encoded data removed]",
      "text/plain": [
       "<Figure size 1200x500 with 2 Axes>"
      ]
     },
     "metadata": {},
     "output_type": "display_data"
    },
    {
     "data": {
      "image/png": "[encoded data removed]",
      "text/plain": [
       "<Figure size 800x400 with 1 Axes>"
      ]
     },
     "metadata": {},
     "output_type": "display_data"
    }
   ],
   "source": [
    "import matplotlib.pyplot as plt\n",
    "import seaborn as sns\n",
    "\n",
    "# Histogram\n",
    "plt.figure(figsize=(12, 5))\n",
    "plt.subplot(1, 2, 1)\n",
    "sns.histplot(df['Height'], kde=True)\n",
    "plt.title('Height Distribution')\n",
    "\n",
    "plt.subplot(1, 2, 2)\n",
    "sns.histplot(df['Weight'], kde=True)\n",
    "plt.title('Weight Distribution')\n",
    "plt.show()\n",
    "\n",
    "# Box Plot\n",
    "plt.figure(figsize=(8, 4))\n",
    "sns.boxplot(data=df[['Height', 'Weight']])\n",
    "plt.title('Box Plot of Height and Weight')\n",
    "plt.show()\n"
   ]
  },
  {
   "cell_type": "code",
   "execution_count": 36,
   "id": "b533539c-5baf-4c0e-8dd3-79a2cfacd8ac",
   "metadata": {},
   "outputs": [
    {
     "data": {
      "text/html": [
       "<div>\n",
       "<style scoped>\n",
       "    .dataframe tbody tr th:only-of-type {\n",
       "        vertical-align: middle;\n",
       "    }\n",
       "\n",
       "    .dataframe tbody tr th {\n",
       "        vertical-align: top;\n",
       "    }\n",
       "\n",
       "    .dataframe thead th {\n",
       "        text-align: right;\n",
       "    }\n",
       "</style>\n",
       "<table border=\"1\" class=\"dataframe\">\n",
       "  <thead>\n",
       "    <tr style=\"text-align: right;\">\n",
       "      <th></th>\n",
       "      <th>Gender</th>\n",
       "      <th>Height</th>\n",
       "      <th>Weight</th>\n",
       "      <th>Index</th>\n",
       "    </tr>\n",
       "  </thead>\n",
       "  <tbody>\n",
       "    <tr>\n",
       "      <th>0</th>\n",
       "      <td>1</td>\n",
       "      <td>174</td>\n",
       "      <td>96</td>\n",
       "      <td>4</td>\n",
       "    </tr>\n",
       "    <tr>\n",
       "      <th>1</th>\n",
       "      <td>1</td>\n",
       "      <td>189</td>\n",
       "      <td>87</td>\n",
       "      <td>2</td>\n",
       "    </tr>\n",
       "    <tr>\n",
       "      <th>2</th>\n",
       "      <td>0</td>\n",
       "      <td>185</td>\n",
       "      <td>110</td>\n",
       "      <td>4</td>\n",
       "    </tr>\n",
       "    <tr>\n",
       "      <th>3</th>\n",
       "      <td>0</td>\n",
       "      <td>195</td>\n",
       "      <td>104</td>\n",
       "      <td>3</td>\n",
       "    </tr>\n",
       "    <tr>\n",
       "      <th>4</th>\n",
       "      <td>1</td>\n",
       "      <td>149</td>\n",
       "      <td>61</td>\n",
       "      <td>3</td>\n",
       "    </tr>\n",
       "  </tbody>\n",
       "</table>\n",
       "</div>"
      ],
      "text/plain": [
       "   Gender  Height  Weight  Index\n",
       "0       1     174      96      4\n",
       "1       1     189      87      2\n",
       "2       0     185     110      4\n",
       "3       0     195     104      3\n",
       "4       1     149      61      3"
      ]
     },
     "execution_count": 36,
     "metadata": {},
     "output_type": "execute_result"
    }
   ],
   "source": [
    "df.head()"
   ]
  },
  {
   "cell_type": "code",
   "execution_count": 37,
   "id": "fe3c316d-3347-40c1-9c6e-047031daca4a",
   "metadata": {},
   "outputs": [],
   "source": [
    "scaler = StandardScaler()\n",
    "X_train = scaler.fit_transform(X_train)\n",
    "X_test = scaler.transform(X_test)"
   ]
  },
  {
   "cell_type": "code",
   "execution_count": 40,
   "id": "35443b6c-40c6-4181-afdc-65514ef13703",
   "metadata": {},
   "outputs": [
    {
     "data": {
      "text/plain": [
       "array([[ 1.        , -0.56559786, -0.52781773],\n",
       "       [ 1.        ,  0.52179989,  0.64786069],\n",
       "       [ 1.        ,  0.09892299,  1.01912756],\n",
       "       ...,\n",
       "       [ 1.        ,  0.46138891,  0.98818865],\n",
       "       [ 1.        , -0.14272096,  1.60696677],\n",
       "       [ 1.        , -0.56559786,  1.51415005]])"
      ]
     },
     "execution_count": 40,
     "metadata": {},
     "output_type": "execute_result"
    }
   ],
   "source": [
    "X_train"
   ]
  },
  {
   "cell_type": "code",
   "execution_count": null,
   "id": "2df5f0f8-359e-43ce-9db1-8c71603b6f25",
   "metadata": {},
   "outputs": [],
   "source": []
  }
 ],
 "metadata": {
  "kernelspec": {
   "display_name": "Python 3 (ipykernel)",
   "language": "python",
   "name": "python3"
  },
  "language_info": {
   "codemirror_mode": {
    "name": "ipython",
    "version": 3
   },
   "file_extension": ".py",
   "mimetype": "text/x-python",
   "name": "python",
   "nbconvert_exporter": "python",
   "pygments_lexer": "ipython3",
   "version": "3.6.13"
  }
 },
 "nbformat": 4,
 "nbformat_minor": 5
}
